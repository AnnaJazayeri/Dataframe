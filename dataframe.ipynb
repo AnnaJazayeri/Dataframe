{
 "cells": [
  {
   "cell_type": "code",
   "execution_count": 1,
   "id": "17863d46",
   "metadata": {},
   "outputs": [],
   "source": [
    "import pandas as pd\n",
    "import numpy as np\n",
    "import matplotlib.pyplot as plt\n",
    "import seaborn as sns\n",
    "\n",
    "# opening csv file\n",
    "df_csv = pd.read_csv('Major_Crime_Indicators_Open_Data.csv')\n",
    "# opening excel file\n",
    "# df_excel = pd.read_excel('Major_Crime_Indicators_Open_Data.xlsx')\n",
    "\n",
    "# finding nan values\n",
    "df_csv.isna().sum()\n",
    "\n",
    "\n",
    "# finding outliers\n",
    "def detectOutliers (dataFrame):\n",
    "    \n",
    "    # Convert each column to numeric, handling errors and converting non-numeric values to NaN\n",
    "    dataFrame = dataFrame.apply(pd.to_numeric, errors='coerce')\n",
    "    \n",
    "    Q1 = dataFrame.quantile(0.25)\n",
    "    Q3 = dataFrame.quantile(0.75)\n",
    "    IQR = Q3 - Q1 \n",
    "    lower_bound = Q1 - 1.5 * IQR\n",
    "    upper_bound = Q3 + 1.5 * IQR\n",
    "    outliers = (dataFrame < lower_bound) | (dataFrame > upper_bound)\n",
    "    return outliers\n",
    "\n",
    "detectOutliers(df_csv).sum()\n",
    "\n",
    "# retrieve all unique values in a column\n",
    "df_csv['OCC_YEAR'].unique()\n",
    "\n",
    "# dropping columns\n",
    "df_csv = df_csv.drop(['OCC_DOW', 'OCC_DOY'], axis = 1)\n",
    "\n",
    "\n"
   ]
  },
  {
   "cell_type": "markdown",
   "id": "ac424a5f",
   "metadata": {},
   "source": [
    "### Handeling nan values\n",
    "Handling NaN (Not a Number) values is an important aspect of data preprocessing. There are several common strategies to deal with NaN values in a DataFrame:\n",
    "\n",
    "    1. Removing Rows or Columns:\n",
    "    dropna(): Removes rows or columns containing NaN values.\n",
    "    df.dropna()  # removes rows with NaN values\n",
    "    df.dropna(axis=1)  # removes columns with NaN values\n",
    "    \n",
    "    2. Filling NaN values:\n",
    "    fillna(): Fills NaN values with a specified value or using various filling methods.\n",
    "    df.fillna(value)  # fills NaN with a specific value\n",
    "    df.ffill()  # fills NaN values with the previous non-NaN value (forward fill)\n",
    "    df.bfill()  # fills NaN values with the next non-NaN value (backward fill)\n",
    "    \n",
    "    3. Imputation: Impute NaN values with statistical measures like mean, median, or mode.\n",
    "    df['column_name'].fillna(df['column_name'].mean(), inplace=True)\n",
    "    \n",
    "    4. Interpolation: Use interpolation methods to estimate NaN values based on existing data.\n",
    "    df.interpolate(method='linear', inplace=True)\n",
    "    \n",
    "    5. Masking: Create a Boolean mask to identify and handle NaN values selectively.\n",
    "    df[df.isna()] = value  # replace NaN with a specific value\n"
   ]
  },
  {
   "cell_type": "code",
   "execution_count": 7,
   "id": "4d972a67",
   "metadata": {},
   "outputs": [],
   "source": [
    "# handleing nan values\n",
    "df_csv = df_csv.ffill()\n",
    "# finding nan values\n",
    "df_csv.isna().sum()\n",
    "\n",
    "# showing correlation for numerical columns\n",
    "num_cols = df_csv.select_dtypes(include = [np.number]).columns\n",
    "corrleation = df_csv[num_cols].corr()\n",
    "sns.heatmap(corrleation, cmap = 'coolwarm')\n",
    "\n",
    "# showing a barchart wtih matplotlib\n",
    "offence_count = df_csv['OFFENCE'].value_counts()\n",
    "\n",
    "plt.bar(offence_count.index, offence_count)\n",
    "plt.xlabel('Offence Types')\n",
    "plt.ylabel('Count')\n",
    "plt.title('Bar Chart of Offence Types')\n",
    "plt.show()"
   ]
  },
  {
   "cell_type": "code",
   "execution_count": null,
   "id": "a9a686cd",
   "metadata": {},
   "outputs": [],
   "source": []
  }
 ],
 "metadata": {
  "kernelspec": {
   "display_name": "Python 3 (ipykernel)",
   "language": "python",
   "name": "python3"
  },
  "language_info": {
   "codemirror_mode": {
    "name": "ipython",
    "version": 3
   },
   "file_extension": ".py",
   "mimetype": "text/x-python",
   "name": "python",
   "nbconvert_exporter": "python",
   "pygments_lexer": "ipython3",
   "version": "3.11.5"
  }
 },
 "nbformat": 4,
 "nbformat_minor": 5
}
